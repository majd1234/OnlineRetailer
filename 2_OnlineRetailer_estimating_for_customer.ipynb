{
 "cells": [
  {
   "cell_type": "code",
   "execution_count": 1,
   "id": "injured-disclosure",
   "metadata": {},
   "outputs": [],
   "source": [
    "# Loading libraries\n",
    "from datetime import datetime, timedelta,date\n",
    "import pandas as pd\n",
    "%matplotlib inline\n",
    "from sklearn.metrics import classification_report,confusion_matrix\n",
    "import matplotlib.pyplot as plt\n",
    "import numpy as np\n",
    "from sklearn.tree import DecisionTreeClassifier\n",
    "from sklearn import metrics\n",
    "from sklearn.model_selection import KFold, cross_val_score, train_test_split\n",
    "from sklearn.tree import export_graphviz\n",
    "from six import StringIO\n",
    "from IPython.display import Image  \n",
    "import pydotplus\n",
    "\n",
    "import warnings\n",
    "warnings.filterwarnings(\"ignore\")"
   ]
  },
  {
   "cell_type": "code",
   "execution_count": 2,
   "id": "contained-accuracy",
   "metadata": {},
   "outputs": [
    {
     "data": {
      "text/html": [
       "<div>\n",
       "<style scoped>\n",
       "    .dataframe tbody tr th:only-of-type {\n",
       "        vertical-align: middle;\n",
       "    }\n",
       "\n",
       "    .dataframe tbody tr th {\n",
       "        vertical-align: top;\n",
       "    }\n",
       "\n",
       "    .dataframe thead th {\n",
       "        text-align: right;\n",
       "    }\n",
       "</style>\n",
       "<table border=\"1\" class=\"dataframe\">\n",
       "  <thead>\n",
       "    <tr style=\"text-align: right;\">\n",
       "      <th></th>\n",
       "      <th>Invoice</th>\n",
       "      <th>StockCode</th>\n",
       "      <th>Description</th>\n",
       "      <th>Quantity</th>\n",
       "      <th>InvoiceDate</th>\n",
       "      <th>Price</th>\n",
       "      <th>Customer ID</th>\n",
       "      <th>Country</th>\n",
       "    </tr>\n",
       "  </thead>\n",
       "  <tbody>\n",
       "    <tr>\n",
       "      <th>0</th>\n",
       "      <td>489434</td>\n",
       "      <td>85048</td>\n",
       "      <td>15CM CHRISTMAS GLASS BALL 20 LIGHTS</td>\n",
       "      <td>12</td>\n",
       "      <td>12/1/2009 7:45</td>\n",
       "      <td>6.95</td>\n",
       "      <td>13085.0</td>\n",
       "      <td>United Kingdom</td>\n",
       "    </tr>\n",
       "    <tr>\n",
       "      <th>1</th>\n",
       "      <td>489434</td>\n",
       "      <td>79323P</td>\n",
       "      <td>PINK CHERRY LIGHTS</td>\n",
       "      <td>12</td>\n",
       "      <td>12/1/2009 7:45</td>\n",
       "      <td>6.75</td>\n",
       "      <td>13085.0</td>\n",
       "      <td>United Kingdom</td>\n",
       "    </tr>\n",
       "    <tr>\n",
       "      <th>2</th>\n",
       "      <td>489434</td>\n",
       "      <td>79323W</td>\n",
       "      <td>WHITE CHERRY LIGHTS</td>\n",
       "      <td>12</td>\n",
       "      <td>12/1/2009 7:45</td>\n",
       "      <td>6.75</td>\n",
       "      <td>13085.0</td>\n",
       "      <td>United Kingdom</td>\n",
       "    </tr>\n",
       "    <tr>\n",
       "      <th>3</th>\n",
       "      <td>489434</td>\n",
       "      <td>22041</td>\n",
       "      <td>RECORD FRAME 7\" SINGLE SIZE</td>\n",
       "      <td>48</td>\n",
       "      <td>12/1/2009 7:45</td>\n",
       "      <td>2.10</td>\n",
       "      <td>13085.0</td>\n",
       "      <td>United Kingdom</td>\n",
       "    </tr>\n",
       "    <tr>\n",
       "      <th>4</th>\n",
       "      <td>489434</td>\n",
       "      <td>21232</td>\n",
       "      <td>STRAWBERRY CERAMIC TRINKET BOX</td>\n",
       "      <td>24</td>\n",
       "      <td>12/1/2009 7:45</td>\n",
       "      <td>1.25</td>\n",
       "      <td>13085.0</td>\n",
       "      <td>United Kingdom</td>\n",
       "    </tr>\n",
       "  </tbody>\n",
       "</table>\n",
       "</div>"
      ],
      "text/plain": [
       "  Invoice StockCode                          Description  Quantity  \\\n",
       "0  489434     85048  15CM CHRISTMAS GLASS BALL 20 LIGHTS        12   \n",
       "1  489434    79323P                   PINK CHERRY LIGHTS        12   \n",
       "2  489434    79323W                  WHITE CHERRY LIGHTS        12   \n",
       "3  489434     22041         RECORD FRAME 7\" SINGLE SIZE         48   \n",
       "4  489434     21232       STRAWBERRY CERAMIC TRINKET BOX        24   \n",
       "\n",
       "      InvoiceDate  Price  Customer ID         Country  \n",
       "0  12/1/2009 7:45   6.95      13085.0  United Kingdom  \n",
       "1  12/1/2009 7:45   6.75      13085.0  United Kingdom  \n",
       "2  12/1/2009 7:45   6.75      13085.0  United Kingdom  \n",
       "3  12/1/2009 7:45   2.10      13085.0  United Kingdom  \n",
       "4  12/1/2009 7:45   1.25      13085.0  United Kingdom  "
      ]
     },
     "execution_count": 2,
     "metadata": {},
     "output_type": "execute_result"
    }
   ],
   "source": [
    "# Loading online retail data\n",
    "file_path = \"C://Users//lenovo//Desktop//7LYTIX//online_retail_II.csv\"\n",
    "df = pd.read_csv(file_path, encoding= 'ISO-8859-1')\n",
    "# Preview the original data\n",
    "df.head()"
   ]
  },
  {
   "cell_type": "code",
   "execution_count": 3,
   "id": "removed-consumer",
   "metadata": {},
   "outputs": [
    {
     "data": {
      "text/plain": [
       "Invoice             0\n",
       "StockCode           0\n",
       "Description      4372\n",
       "Quantity            0\n",
       "InvoiceDate         0\n",
       "Price               0\n",
       "Customer ID    236682\n",
       "Country             0\n",
       "dtype: int64"
      ]
     },
     "execution_count": 3,
     "metadata": {},
     "output_type": "execute_result"
    }
   ],
   "source": [
    "# Check for missing values\n",
    "df.isnull().sum()"
   ]
  },
  {
   "cell_type": "code",
   "execution_count": 4,
   "id": "continuous-russell",
   "metadata": {},
   "outputs": [],
   "source": [
    "# Remove missing values\n",
    "df.dropna(inplace=True)"
   ]
  },
  {
   "cell_type": "code",
   "execution_count": 5,
   "id": "subject-institute",
   "metadata": {},
   "outputs": [
    {
     "ename": "NameError",
     "evalue": "name 'onlineRetailer_data' is not defined",
     "output_type": "error",
     "traceback": [
      "\u001b[1;31m---------------------------------------------------------------------------\u001b[0m",
      "\u001b[1;31mNameError\u001b[0m                                 Traceback (most recent call last)",
      "\u001b[1;32m<ipython-input-5-491df58e3750>\u001b[0m in \u001b[0;36m<module>\u001b[1;34m\u001b[0m\n\u001b[0;32m      1\u001b[0m \u001b[1;31m#create dataframe for InvoiceDate\u001b[0m\u001b[1;33m\u001b[0m\u001b[1;33m\u001b[0m\u001b[1;33m\u001b[0m\u001b[0m\n\u001b[1;32m----> 2\u001b[1;33m \u001b[0monlineRetailer_data\u001b[0m\u001b[1;33m[\u001b[0m\u001b[1;34m'InvoiceDate'\u001b[0m\u001b[1;33m]\u001b[0m \u001b[1;33m=\u001b[0m \u001b[0mpd\u001b[0m\u001b[1;33m.\u001b[0m\u001b[0mto_datetime\u001b[0m\u001b[1;33m(\u001b[0m\u001b[0monlineRetailer_data\u001b[0m\u001b[1;33m[\u001b[0m\u001b[1;34m'InvoiceDate'\u001b[0m\u001b[1;33m]\u001b[0m\u001b[1;33m)\u001b[0m\u001b[1;33m\u001b[0m\u001b[1;33m\u001b[0m\u001b[0m\n\u001b[0m",
      "\u001b[1;31mNameError\u001b[0m: name 'onlineRetailer_data' is not defined"
     ]
    }
   ],
   "source": [
    "#create dataframe for InvoiceDate\n",
    "onlineRetailer_data['InvoiceDate'] = pd.to_datetime(onlineRetailer_data['InvoiceDate'])"
   ]
  },
  {
   "cell_type": "code",
   "execution_count": null,
   "id": "immune-grove",
   "metadata": {},
   "outputs": [],
   "source": [
    "# For training the model, we will take into consideration the last 9 months in the data set\n",
    "# so that, we will take 6 months behavioral data between March 2011 and August 2011,\n",
    "# and for the next purchase date, we will take 3 month in advance (between September 2011 and October 2011)\n",
    "first_period = onlineRetailer_data[(onlineRetailer_data.InvoiceDate >= datetime(2011,1,1)) & (onlineRetailer_data.InvoiceDate < datetime(2011,9,1))].reset_index(drop=True)\n",
    "next_period = onlineRetailer_data[(onlineRetailer_data.InvoiceDate >= datetime(2011,9,1)) & (onlineRetailer_data.InvoiceDate < datetime(2011,12,1))].reset_index(drop=True)"
   ]
  },
  {
   "cell_type": "code",
   "execution_count": null,
   "id": "floral-sleep",
   "metadata": {},
   "outputs": [],
   "source": [
    "#create dataframe for customer ides\n",
    "tx_user = pd.DataFrame(first_period['Customer ID'].unique())\n",
    "tx_user.columns = ['Customer ID']"
   ]
  },
  {
   "cell_type": "code",
   "execution_count": null,
   "id": "selective-breakfast",
   "metadata": {},
   "outputs": [],
   "source": [
    "# Creating the feature 'NextPurchaseDay' which represents the next purchase day between\n",
    "# the first period (6 monthes) and the second period (next 3 monthes)\n",
    "# in odrder to include it in the customer feature vectors\n",
    "\n",
    "# Create a dataframe with customer id and first purchase date in next_period\n",
    "next_period_first_purchase = next_period.groupby('Customer ID').InvoiceDate.min().reset_index()\n",
    "next_period_first_purchase.columns = ['Customer ID','MinPurchaseDate']\n",
    "\n",
    "# Create a dataframe with customer id and last purchase date in first_period\n",
    "tx_last_purchase = first_period.groupby('Customer ID').InvoiceDate.max().reset_index()\n",
    "tx_last_purchase.columns = ['Customer ID','MaxPurchaseDate']\n",
    "\n",
    "# Merge two dataframes\n",
    "tx_purchase_dates = pd.merge(tx_last_purchase,next_period_first_purchase,on='Customer ID',how='left')\n",
    "\n",
    "# Calculate the time difference in days:\n",
    "tx_purchase_dates['NextPurchaseDay'] = (tx_purchase_dates['MinPurchaseDate'] - tx_purchase_dates['MaxPurchaseDate']).dt.days\n",
    "\n",
    "# Merge with tx_user \n",
    "tx_user = pd.merge(tx_user, tx_purchase_dates[['Customer ID','NextPurchaseDay']],on='Customer ID',how='left')\n",
    "\n",
    "#fill NA values with -1\n",
    "tx_user = tx_user.fillna(-1)"
   ]
  },
  {
   "cell_type": "code",
   "execution_count": null,
   "id": "incident-laugh",
   "metadata": {},
   "outputs": [],
   "source": [
    "# Creating the feature 'Recency' which represents the number of days that have passed \n",
    "# since the customer last purchased (in the first period)\n",
    "# in odrder to include it in the customer feature vectors\n",
    "\n",
    "# Get max purchase date for Recency and create a dataframe\n",
    "tx_max_purchase = first_period.groupby('Customer ID').InvoiceDate.max().reset_index()\n",
    "\n",
    "tx_max_purchase.columns = ['Customer ID','MaxPurchaseDate']\n",
    "\n",
    "# Calculate the recency in days\n",
    "tx_max_purchase['Recency'] = (tx_max_purchase['MaxPurchaseDate'].max() - tx_max_purchase['MaxPurchaseDate']).dt.days\n",
    "# Add 'recency' feature to tx_user\n",
    "tx_user = pd.merge(tx_user, tx_max_purchase[['Customer ID','Recency']], on='Customer ID')"
   ]
  },
  {
   "cell_type": "code",
   "execution_count": null,
   "id": "strategic-canadian",
   "metadata": {},
   "outputs": [],
   "source": [
    "# Creating the feature 'Frequency' which represents the number of purchases by the customer (in the first period)\n",
    "# in odrder to include it in the customer feature vectors\n",
    "\n",
    "# Get total count of purchases\n",
    "tx_frequency = first_period.groupby('Customer ID').InvoiceDate.count().reset_index()\n",
    "tx_frequency.columns = ['Customer ID','Frequency']\n",
    "\n",
    "# Add 'Frequency' feature to tx_user\n",
    "tx_user = pd.merge(tx_user, tx_frequency, on='Customer ID')"
   ]
  },
  {
   "cell_type": "code",
   "execution_count": null,
   "id": "individual-vatican",
   "metadata": {},
   "outputs": [],
   "source": [
    "# Creating the feature 'Revenue' wehere Revenue = quantity*price (in the first period)\n",
    "# in odrder to include it in the customer feature vectors\n",
    "\n",
    "first_period['Revenue'] = first_period['Price'] * first_period['Quantity']\n",
    "tx_revenue = first_period.groupby('Customer ID').Revenue.sum().reset_index()\n",
    "\n",
    "# Add 'Revenue' feature to tx_user\n",
    "tx_user = pd.merge(tx_user, tx_revenue, on='Customer ID')"
   ]
  },
  {
   "cell_type": "code",
   "execution_count": null,
   "id": "economic-survey",
   "metadata": {},
   "outputs": [],
   "source": [
    "tx_user.head()"
   ]
  },
  {
   "cell_type": "code",
   "execution_count": null,
   "id": "worst-marshall",
   "metadata": {},
   "outputs": [],
   "source": [
    "# Now, we will create new three features depedning on the shift() method (shift features), \n",
    "# to find out the time delay between the last three purchases\n",
    "\n",
    "# Create a dataframe with CustomerID and Invoice Date\n",
    "tx_day_order = first_period[['Customer ID','InvoiceDate']]\n",
    "tx_day_order['InvoiceDate'] = tx_day_order['InvoiceDate'].dt.date\n",
    "\n",
    "tx_day_order = tx_day_order.sort_values(['Customer ID','InvoiceDate'])\n",
    "#drop duplicates\n",
    "tx_day_order = tx_day_order.drop_duplicates(subset=['Customer ID','InvoiceDate'],keep='first')"
   ]
  },
  {
   "cell_type": "code",
   "execution_count": null,
   "id": "initial-times",
   "metadata": {},
   "outputs": [],
   "source": [
    "#shifting last 3 purchase dates\n",
    "tx_day_order['PrevInvoiceDate'] = tx_day_order.groupby('Customer ID')['InvoiceDate'].shift(1)\n",
    "tx_day_order['T2InvoiceDate'] = tx_day_order.groupby('Customer ID')['InvoiceDate'].shift(2)\n",
    "tx_day_order['T3InvoiceDate'] = tx_day_order.groupby('Customer ID')['InvoiceDate'].shift(3)"
   ]
  },
  {
   "cell_type": "code",
   "execution_count": null,
   "id": "nonprofit-thesis",
   "metadata": {},
   "outputs": [],
   "source": [
    "tx_day_order.head()"
   ]
  },
  {
   "cell_type": "code",
   "execution_count": null,
   "id": "rubber-privacy",
   "metadata": {},
   "outputs": [],
   "source": [
    "tx_day_order['DayDiff'] = (tx_day_order['InvoiceDate'] - tx_day_order['PrevInvoiceDate']).dt.days\n",
    "tx_day_order['DayDiff2'] = (tx_day_order['InvoiceDate'] - tx_day_order['T2InvoiceDate']).dt.days\n",
    "tx_day_order['DayDiff3'] = (tx_day_order['InvoiceDate'] - tx_day_order['T3InvoiceDate']).dt.days"
   ]
  },
  {
   "cell_type": "code",
   "execution_count": null,
   "id": "corresponding-northeast",
   "metadata": {},
   "outputs": [],
   "source": [
    "# Preview the 'shift features'\n",
    "tx_day_order.head()"
   ]
  },
  {
   "cell_type": "code",
   "execution_count": null,
   "id": "infinite-partition",
   "metadata": {},
   "outputs": [],
   "source": [
    "# Calculating the mean and the standard deviation of the 'shift features' aggrigated by customer\n",
    "tx_day_diff = tx_day_order.groupby('Customer ID').agg({'DayDiff': ['mean','std']}).reset_index()\n",
    "tx_day_diff.columns = ['Customer ID', 'DayDiffMean','DayDiffStd']"
   ]
  },
  {
   "cell_type": "code",
   "execution_count": null,
   "id": "metropolitan-environment",
   "metadata": {},
   "outputs": [],
   "source": [
    "#drop duplicates and keep the last values\n",
    "tx_day_order_last = tx_day_order.drop_duplicates(subset=['Customer ID'],keep='last')"
   ]
  },
  {
   "cell_type": "code",
   "execution_count": null,
   "id": "incoming-webcam",
   "metadata": {},
   "outputs": [],
   "source": [
    "tx_day_order_last = tx_day_order_last.dropna()\n",
    "tx_day_order_last = pd.merge(tx_day_order_last, tx_day_diff, on='Customer ID')\n",
    "# Mergee shift feautes with the pervious feautres\n",
    "tx_user = pd.merge(tx_user, tx_day_order_last[['Customer ID','DayDiff','DayDiff2','DayDiff3','DayDiffMean','DayDiffStd']], on='Customer ID')"
   ]
  },
  {
   "cell_type": "code",
   "execution_count": null,
   "id": "integrated-window",
   "metadata": {},
   "outputs": [],
   "source": [
    "# Preview the last version of tx_user included the final feature vectors\n",
    "tx_user.head()"
   ]
  },
  {
   "cell_type": "code",
   "execution_count": null,
   "id": "peaceful-professional",
   "metadata": {},
   "outputs": [],
   "source": [
    "# Create tx_class as a copy of tx_user before applying get_dummies\n",
    "# Kindly note the the class dataframe will contain the label attribute depending on the NextPurchaseDay feature:\n",
    "# if NextPurchaseDay <= 20 --> class values = 2\n",
    "# if NextPurchaseDay between 20 and 50 --> class values = 1\n",
    "# if NextPurchaseDay > 50 --> class values = 0\n",
    "tx_class = tx_user.copy()\n",
    "tx_class = pd.get_dummies(tx_class)"
   ]
  },
  {
   "cell_type": "code",
   "execution_count": null,
   "id": "czech-entrepreneur",
   "metadata": {},
   "outputs": [],
   "source": [
    "tx_class['NextPurchaseDayRange'] = 2\n",
    "tx_class.loc[tx_user.NextPurchaseDay>20,'NextPurchaseDayRange'] = 1\n",
    "tx_class.loc[tx_user.NextPurchaseDay>50,'NextPurchaseDayRange'] = 0"
   ]
  },
  {
   "cell_type": "code",
   "execution_count": null,
   "id": "explicit-theater",
   "metadata": {},
   "outputs": [],
   "source": [
    "# Preview the tx_class\n",
    "tx_class.head()"
   ]
  },
  {
   "cell_type": "code",
   "execution_count": null,
   "id": "short-absolute",
   "metadata": {},
   "outputs": [],
   "source": [
    "feature_cols = ['Recency','Frequency','Revenue','DayDiffMean','DayDiffStd']\n",
    "X = tx_class[feature_cols] # Features\n",
    "y = tx_class.NextPurchaseDayRange # Target variable"
   ]
  },
  {
   "cell_type": "code",
   "execution_count": null,
   "id": "imported-comment",
   "metadata": {},
   "outputs": [],
   "source": [
    "#train & test split\n",
    "#tx_class = tx_class.drop('NextPurchaseDay',axis=1)\n",
    "#X, y = tx_class.drop('NextPurchaseDayRange',axis=1), tx_class.NextPurchaseDayRange\n",
    "X_train, X_test, y_train, y_test = train_test_split(X, y, test_size=0.3, random_state=1)\n",
    "\n",
    "# Create Decision Tree classifer object\n",
    "clf = DecisionTreeClassifier(criterion=\"entropy\", max_depth=3)\n",
    "\n",
    "# Train Decision Tree Classifer\n",
    "clf = clf.fit(X_train,y_train)\n",
    "\n",
    "#Predict the response for test dataset\n",
    "y_pred = clf.predict(X_test)"
   ]
  },
  {
   "cell_type": "code",
   "execution_count": null,
   "id": "consistent-latin",
   "metadata": {},
   "outputs": [],
   "source": [
    "# Measure the model accuracy \n",
    "kfold = KFold(n_splits=2, random_state=22)\n",
    "acc = cross_val_score(clf,X_train,y_train, cv = kfold,scoring = \"accuracy\")\n",
    "print(\"Accuracy:\",acc)"
   ]
  },
  {
   "cell_type": "code",
   "execution_count": null,
   "id": "false-lender",
   "metadata": {},
   "outputs": [],
   "source": [
    "dot_data = StringIO()\n",
    "export_graphviz(clf, out_file=dot_data,  \n",
    "                filled=True, rounded=True,\n",
    "                special_characters=True,feature_names = feature_cols,class_names=['0','1','2'])\n",
    "graph = pydotplus.graph_from_dot_data(dot_data.getvalue())  \n",
    "graph.write_png('diabetes.png')\n",
    "Image(graph.create_png())"
   ]
  },
  {
   "cell_type": "code",
   "execution_count": null,
   "id": "fifteen-reggae",
   "metadata": {},
   "outputs": [],
   "source": []
  },
  {
   "cell_type": "code",
   "execution_count": null,
   "id": "greater-astronomy",
   "metadata": {},
   "outputs": [],
   "source": []
  },
  {
   "cell_type": "code",
   "execution_count": null,
   "id": "equipped-volunteer",
   "metadata": {},
   "outputs": [],
   "source": []
  }
 ],
 "metadata": {
  "kernelspec": {
   "display_name": "Python 3",
   "language": "python",
   "name": "python3"
  },
  "language_info": {
   "codemirror_mode": {
    "name": "ipython",
    "version": 3
   },
   "file_extension": ".py",
   "mimetype": "text/x-python",
   "name": "python",
   "nbconvert_exporter": "python",
   "pygments_lexer": "ipython3",
   "version": "3.8.5"
  }
 },
 "nbformat": 4,
 "nbformat_minor": 5
}
